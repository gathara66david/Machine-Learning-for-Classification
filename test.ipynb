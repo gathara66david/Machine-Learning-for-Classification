{
 "cells": [
  {
   "cell_type": "code",
   "execution_count": null,
   "metadata": {},
   "outputs": [],
   "source": [
    "\"\"\"To test your knowledge, use the \n",
    "loan_data.csv dataset in the\n",
    " Chapter11/test_your_knowledge/data folder in this book's GitHub\n",
    " repository to fit ML classification models to the data to predict the \n",
    "TARGET\n",
    " column. You will need to do some cleaning of the columns (for example,\n",
    " converting strings to numbers) before using it with ML algorithms. The\n",
    " value of 1 for the target means a default or late payment on the loan, while 0\n",
    " means no late payments or defaults. Examine p-values from a logistic\n",
    " regression fit and see whether any features could potentially be thrown out.\n",
    " Check your accuracy of the models you try and compare it to the majority\n",
    " class fraction. Write a short analysis of the results and process.\"\"\""
   ]
  }
 ],
 "metadata": {
  "kernelspec": {
   "display_name": "Python 3",
   "language": "python",
   "name": "python3"
  },
  "language_info": {
   "name": "python",
   "version": "3.12.9"
  }
 },
 "nbformat": 4,
 "nbformat_minor": 2
}
